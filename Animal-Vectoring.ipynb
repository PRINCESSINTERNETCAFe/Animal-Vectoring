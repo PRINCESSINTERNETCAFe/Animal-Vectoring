{
 "metadata": {
  "language_info": {
   "codemirror_mode": {
    "name": "ipython",
    "version": 3
   },
   "file_extension": ".py",
   "mimetype": "text/x-python",
   "name": "python",
   "nbconvert_exporter": "python",
   "pygments_lexer": "ipython3",
   "version": "3.7.7-final"
  },
  "orig_nbformat": 2,
  "kernelspec": {
   "name": "python37764bitnlpcourseconda060b5b4f1f404a1ea34a44b6664f71b2",
   "display_name": "Python 3.7.7 64-bit ('nlp_course': conda)"
  }
 },
 "nbformat": 4,
 "nbformat_minor": 2,
 "cells": [
  {
   "cell_type": "code",
   "execution_count": 1,
   "metadata": {},
   "outputs": [],
   "source": [
    "import pandas as pd\n",
    "import numpy as np"
   ]
  },
  {
   "cell_type": "code",
   "execution_count": 2,
   "metadata": {},
   "outputs": [],
   "source": [
    "villagers = pd.read_csv('villagers.csv', parse_dates =['Birthday'])"
   ]
  },
  {
   "cell_type": "code",
   "execution_count": 3,
   "metadata": {},
   "outputs": [
    {
     "output_type": "execute_result",
     "data": {
      "text/plain": "      Name    Species  Gender Personality    Hobby Birthday Catchphrase  \\\n0  Admiral       Bird    Male      Cranky   Nature   27-Jan     aye aye   \n1  Agent S   Squirrel  Female       Peppy  Fitness    2-Jul    sidekick   \n2    Agnes        Pig  Female  Big Sister     Play   21-Apr     snuffle   \n3       Al    Gorilla    Male        Lazy  Fitness   18-Oct     ayyyeee   \n4  Alfonso  Alligator    Male        Lazy     Play    9-Jun    it'sa me   \n\n   Favorite Song Style 1  Style 2 Color 1 Color 2               Wallpaper  \\\n0     Steep Hill    Cool     Cool   Black    Blue          dirt-clod wall   \n1  Go K.K. Rider  Active   Simple    Blue   Black           concrete wall   \n2     K.K. House  Simple  Elegant    Pink   White  gray molded-panel wall   \n3  Go K.K. Rider  Active   Active     Red   White           concrete wall   \n4    Forest Life  Simple   Simple     Red    Blue    yellow playroom wall   \n\n                 Flooring                                     Furniture List  \\\n0                  tatami  717;1849;7047;2736;787;5970;3449;3622;3802;410...   \n1  colorful tile flooring  7845;7150;3468;4080;290;3971;3449;1708;4756;25...   \n2      arabesque flooring  4129;7236;7235;7802;896;3428;4027;7325;3958;71...   \n3   green rubber flooring  1452;4078;4013;833;4116;3697;7845;3307;3946;39...   \n4    green honeycomb tile  4763;3205;3701;1557;3623;85;3208;3584;4761;121...   \n\n  Filename    Unique Entry ID  \n0    brd06  B3RyfNEqwGmcccRC3  \n1    squ05  SGMdki6dzpDZyXAw5  \n2    pig17  jzWCiDPm9MqtCfecP  \n3    gor08  LBifxETQJGEaLhBjC  \n4    crd00  REpd8KxB8p9aGBRSE  ",
      "text/html": "<div>\n<style scoped>\n    .dataframe tbody tr th:only-of-type {\n        vertical-align: middle;\n    }\n\n    .dataframe tbody tr th {\n        vertical-align: top;\n    }\n\n    .dataframe thead th {\n        text-align: right;\n    }\n</style>\n<table border=\"1\" class=\"dataframe\">\n  <thead>\n    <tr style=\"text-align: right;\">\n      <th></th>\n      <th>Name</th>\n      <th>Species</th>\n      <th>Gender</th>\n      <th>Personality</th>\n      <th>Hobby</th>\n      <th>Birthday</th>\n      <th>Catchphrase</th>\n      <th>Favorite Song</th>\n      <th>Style 1</th>\n      <th>Style 2</th>\n      <th>Color 1</th>\n      <th>Color 2</th>\n      <th>Wallpaper</th>\n      <th>Flooring</th>\n      <th>Furniture List</th>\n      <th>Filename</th>\n      <th>Unique Entry ID</th>\n    </tr>\n  </thead>\n  <tbody>\n    <tr>\n      <th>0</th>\n      <td>Admiral</td>\n      <td>Bird</td>\n      <td>Male</td>\n      <td>Cranky</td>\n      <td>Nature</td>\n      <td>27-Jan</td>\n      <td>aye aye</td>\n      <td>Steep Hill</td>\n      <td>Cool</td>\n      <td>Cool</td>\n      <td>Black</td>\n      <td>Blue</td>\n      <td>dirt-clod wall</td>\n      <td>tatami</td>\n      <td>717;1849;7047;2736;787;5970;3449;3622;3802;410...</td>\n      <td>brd06</td>\n      <td>B3RyfNEqwGmcccRC3</td>\n    </tr>\n    <tr>\n      <th>1</th>\n      <td>Agent S</td>\n      <td>Squirrel</td>\n      <td>Female</td>\n      <td>Peppy</td>\n      <td>Fitness</td>\n      <td>2-Jul</td>\n      <td>sidekick</td>\n      <td>Go K.K. Rider</td>\n      <td>Active</td>\n      <td>Simple</td>\n      <td>Blue</td>\n      <td>Black</td>\n      <td>concrete wall</td>\n      <td>colorful tile flooring</td>\n      <td>7845;7150;3468;4080;290;3971;3449;1708;4756;25...</td>\n      <td>squ05</td>\n      <td>SGMdki6dzpDZyXAw5</td>\n    </tr>\n    <tr>\n      <th>2</th>\n      <td>Agnes</td>\n      <td>Pig</td>\n      <td>Female</td>\n      <td>Big Sister</td>\n      <td>Play</td>\n      <td>21-Apr</td>\n      <td>snuffle</td>\n      <td>K.K. House</td>\n      <td>Simple</td>\n      <td>Elegant</td>\n      <td>Pink</td>\n      <td>White</td>\n      <td>gray molded-panel wall</td>\n      <td>arabesque flooring</td>\n      <td>4129;7236;7235;7802;896;3428;4027;7325;3958;71...</td>\n      <td>pig17</td>\n      <td>jzWCiDPm9MqtCfecP</td>\n    </tr>\n    <tr>\n      <th>3</th>\n      <td>Al</td>\n      <td>Gorilla</td>\n      <td>Male</td>\n      <td>Lazy</td>\n      <td>Fitness</td>\n      <td>18-Oct</td>\n      <td>ayyyeee</td>\n      <td>Go K.K. Rider</td>\n      <td>Active</td>\n      <td>Active</td>\n      <td>Red</td>\n      <td>White</td>\n      <td>concrete wall</td>\n      <td>green rubber flooring</td>\n      <td>1452;4078;4013;833;4116;3697;7845;3307;3946;39...</td>\n      <td>gor08</td>\n      <td>LBifxETQJGEaLhBjC</td>\n    </tr>\n    <tr>\n      <th>4</th>\n      <td>Alfonso</td>\n      <td>Alligator</td>\n      <td>Male</td>\n      <td>Lazy</td>\n      <td>Play</td>\n      <td>9-Jun</td>\n      <td>it'sa me</td>\n      <td>Forest Life</td>\n      <td>Simple</td>\n      <td>Simple</td>\n      <td>Red</td>\n      <td>Blue</td>\n      <td>yellow playroom wall</td>\n      <td>green honeycomb tile</td>\n      <td>4763;3205;3701;1557;3623;85;3208;3584;4761;121...</td>\n      <td>crd00</td>\n      <td>REpd8KxB8p9aGBRSE</td>\n    </tr>\n  </tbody>\n</table>\n</div>"
     },
     "metadata": {},
     "execution_count": 3
    }
   ],
   "source": [
    "villagers.head()"
   ]
  },
  {
   "cell_type": "code",
   "execution_count": 4,
   "metadata": {},
   "outputs": [],
   "source": [
    "villagers['Birthday'] = pd.to_datetime(villagers['Birthday'], format = \"%d-%b\")\n"
   ]
  },
  {
   "cell_type": "code",
   "execution_count": 5,
   "metadata": {},
   "outputs": [],
   "source": [
    "villagers[\"Gender\"] = villagers[\"Gender\"].replace([\"Female\", \"Male\"], [0, 1])"
   ]
  },
  {
   "cell_type": "markdown",
   "metadata": {},
   "source": [
    "## Changing the Personality to vector values\n",
    "As the total 8 personality types in the game for villagers are actually split into 4 for each gender, I've decided to refactor the female and male counterparts into the same value. I thought it made more sense to do it this way and \"degender\" the personality, as we already have a Gender value that we can apply to get the exact Personality."
   ]
  },
  {
   "cell_type": "code",
   "execution_count": 6,
   "metadata": {},
   "outputs": [],
   "source": [
    "villagers[\"Personality\"] = villagers[\"Personality\"].replace([\"Normal\", \"Lazy\"], 0)\n",
    "villagers[\"Personality\"] = villagers[\"Personality\"].replace([\"Peppy\", \"Jock\"], 1)\n",
    "villagers[\"Personality\"] = villagers[\"Personality\"].replace([\"Snooty\", \"Cranky\"], 2)\n",
    "villagers[\"Personality\"] = villagers[\"Personality\"].replace([\"Big Sister\", \"Smug\"], 3)"
   ]
  },
  {
   "cell_type": "code",
   "execution_count": 7,
   "metadata": {},
   "outputs": [
    {
     "output_type": "execute_result",
     "data": {
      "text/plain": "      Name    Species  Gender  Personality    Hobby   Birthday Catchphrase  \\\n0  Admiral       Bird       1            2   Nature 1900-01-27     aye aye   \n1  Agent S   Squirrel       0            1  Fitness 1900-07-02    sidekick   \n2    Agnes        Pig       0            3     Play 1900-04-21     snuffle   \n3       Al    Gorilla       1            0  Fitness 1900-10-18     ayyyeee   \n4  Alfonso  Alligator       1            0     Play 1900-06-09    it'sa me   \n\n   Favorite Song Style 1  Style 2 Color 1 Color 2               Wallpaper  \\\n0     Steep Hill    Cool     Cool   Black    Blue          dirt-clod wall   \n1  Go K.K. Rider  Active   Simple    Blue   Black           concrete wall   \n2     K.K. House  Simple  Elegant    Pink   White  gray molded-panel wall   \n3  Go K.K. Rider  Active   Active     Red   White           concrete wall   \n4    Forest Life  Simple   Simple     Red    Blue    yellow playroom wall   \n\n                 Flooring                                     Furniture List  \\\n0                  tatami  717;1849;7047;2736;787;5970;3449;3622;3802;410...   \n1  colorful tile flooring  7845;7150;3468;4080;290;3971;3449;1708;4756;25...   \n2      arabesque flooring  4129;7236;7235;7802;896;3428;4027;7325;3958;71...   \n3   green rubber flooring  1452;4078;4013;833;4116;3697;7845;3307;3946;39...   \n4    green honeycomb tile  4763;3205;3701;1557;3623;85;3208;3584;4761;121...   \n\n  Filename    Unique Entry ID  \n0    brd06  B3RyfNEqwGmcccRC3  \n1    squ05  SGMdki6dzpDZyXAw5  \n2    pig17  jzWCiDPm9MqtCfecP  \n3    gor08  LBifxETQJGEaLhBjC  \n4    crd00  REpd8KxB8p9aGBRSE  ",
      "text/html": "<div>\n<style scoped>\n    .dataframe tbody tr th:only-of-type {\n        vertical-align: middle;\n    }\n\n    .dataframe tbody tr th {\n        vertical-align: top;\n    }\n\n    .dataframe thead th {\n        text-align: right;\n    }\n</style>\n<table border=\"1\" class=\"dataframe\">\n  <thead>\n    <tr style=\"text-align: right;\">\n      <th></th>\n      <th>Name</th>\n      <th>Species</th>\n      <th>Gender</th>\n      <th>Personality</th>\n      <th>Hobby</th>\n      <th>Birthday</th>\n      <th>Catchphrase</th>\n      <th>Favorite Song</th>\n      <th>Style 1</th>\n      <th>Style 2</th>\n      <th>Color 1</th>\n      <th>Color 2</th>\n      <th>Wallpaper</th>\n      <th>Flooring</th>\n      <th>Furniture List</th>\n      <th>Filename</th>\n      <th>Unique Entry ID</th>\n    </tr>\n  </thead>\n  <tbody>\n    <tr>\n      <th>0</th>\n      <td>Admiral</td>\n      <td>Bird</td>\n      <td>1</td>\n      <td>2</td>\n      <td>Nature</td>\n      <td>1900-01-27</td>\n      <td>aye aye</td>\n      <td>Steep Hill</td>\n      <td>Cool</td>\n      <td>Cool</td>\n      <td>Black</td>\n      <td>Blue</td>\n      <td>dirt-clod wall</td>\n      <td>tatami</td>\n      <td>717;1849;7047;2736;787;5970;3449;3622;3802;410...</td>\n      <td>brd06</td>\n      <td>B3RyfNEqwGmcccRC3</td>\n    </tr>\n    <tr>\n      <th>1</th>\n      <td>Agent S</td>\n      <td>Squirrel</td>\n      <td>0</td>\n      <td>1</td>\n      <td>Fitness</td>\n      <td>1900-07-02</td>\n      <td>sidekick</td>\n      <td>Go K.K. Rider</td>\n      <td>Active</td>\n      <td>Simple</td>\n      <td>Blue</td>\n      <td>Black</td>\n      <td>concrete wall</td>\n      <td>colorful tile flooring</td>\n      <td>7845;7150;3468;4080;290;3971;3449;1708;4756;25...</td>\n      <td>squ05</td>\n      <td>SGMdki6dzpDZyXAw5</td>\n    </tr>\n    <tr>\n      <th>2</th>\n      <td>Agnes</td>\n      <td>Pig</td>\n      <td>0</td>\n      <td>3</td>\n      <td>Play</td>\n      <td>1900-04-21</td>\n      <td>snuffle</td>\n      <td>K.K. House</td>\n      <td>Simple</td>\n      <td>Elegant</td>\n      <td>Pink</td>\n      <td>White</td>\n      <td>gray molded-panel wall</td>\n      <td>arabesque flooring</td>\n      <td>4129;7236;7235;7802;896;3428;4027;7325;3958;71...</td>\n      <td>pig17</td>\n      <td>jzWCiDPm9MqtCfecP</td>\n    </tr>\n    <tr>\n      <th>3</th>\n      <td>Al</td>\n      <td>Gorilla</td>\n      <td>1</td>\n      <td>0</td>\n      <td>Fitness</td>\n      <td>1900-10-18</td>\n      <td>ayyyeee</td>\n      <td>Go K.K. Rider</td>\n      <td>Active</td>\n      <td>Active</td>\n      <td>Red</td>\n      <td>White</td>\n      <td>concrete wall</td>\n      <td>green rubber flooring</td>\n      <td>1452;4078;4013;833;4116;3697;7845;3307;3946;39...</td>\n      <td>gor08</td>\n      <td>LBifxETQJGEaLhBjC</td>\n    </tr>\n    <tr>\n      <th>4</th>\n      <td>Alfonso</td>\n      <td>Alligator</td>\n      <td>1</td>\n      <td>0</td>\n      <td>Play</td>\n      <td>1900-06-09</td>\n      <td>it'sa me</td>\n      <td>Forest Life</td>\n      <td>Simple</td>\n      <td>Simple</td>\n      <td>Red</td>\n      <td>Blue</td>\n      <td>yellow playroom wall</td>\n      <td>green honeycomb tile</td>\n      <td>4763;3205;3701;1557;3623;85;3208;3584;4761;121...</td>\n      <td>crd00</td>\n      <td>REpd8KxB8p9aGBRSE</td>\n    </tr>\n  </tbody>\n</table>\n</div>"
     },
     "metadata": {},
     "execution_count": 7
    }
   ],
   "source": [
    "villagers.head()"
   ]
  },
  {
   "cell_type": "markdown",
   "metadata": {},
   "source": [
    "## Changing the Species to numerical values"
   ]
  },
  {
   "cell_type": "code",
   "execution_count": 8,
   "metadata": {},
   "outputs": [],
   "source": [
    "villagers[\"Species\"] = villagers[\"Species\"].replace([\"Cow\", \"Bull\"], \"Cattle\")"
   ]
  },
  {
   "cell_type": "code",
   "execution_count": 9,
   "metadata": {
    "tags": []
   },
   "outputs": [
    {
     "output_type": "stream",
     "name": "stdout",
     "text": "['Alligator', 'Anteater', 'Bear', 'Bird', 'Cat', 'Cattle', 'Chicken', 'Cub', 'Deer', 'Dog', 'Duck', 'Eagle', 'Elephant', 'Frog', 'Goat', 'Gorilla', 'Hamster', 'Hippo', 'Horse', 'Kangaroo', 'Koala', 'Lion', 'Monkey', 'Mouse', 'Octopus', 'Ostrich', 'Penguin', 'Pig', 'Rabbit', 'Rhino', 'Sheep', 'Squirrel', 'Tiger', 'Wolf']\n"
    },
    {
     "output_type": "execute_result",
     "data": {
      "text/plain": "34"
     },
     "metadata": {},
     "execution_count": 9
    }
   ],
   "source": [
    "species = sorted(villagers.Species.unique())\n",
    "print(species)\n",
    "len(species)"
   ]
  },
  {
   "cell_type": "code",
   "execution_count": 10,
   "metadata": {
    "tags": []
   },
   "outputs": [
    {
     "output_type": "stream",
     "name": "stdout",
     "text": "{'Alligator': 0, 'Anteater': 1, 'Bear': 2, 'Bird': 3, 'Cat': 4, 'Cattle': 5, 'Chicken': 6, 'Cub': 7, 'Deer': 8, 'Dog': 9, 'Duck': 10, 'Eagle': 11, 'Elephant': 12, 'Frog': 13, 'Goat': 14, 'Gorilla': 15, 'Hamster': 16, 'Hippo': 17, 'Horse': 18, 'Kangaroo': 19, 'Koala': 20, 'Lion': 21, 'Monkey': 22, 'Mouse': 23, 'Octopus': 24, 'Ostrich': 25, 'Penguin': 26, 'Pig': 27, 'Rabbit': 28, 'Rhino': 29, 'Sheep': 30, 'Squirrel': 31, 'Tiger': 32, 'Wolf': 33}\n"
    }
   ],
   "source": [
    "species_dict = dict(zip(species, range(len(species))))\n",
    "print(species_dict)"
   ]
  },
  {
   "cell_type": "code",
   "execution_count": 11,
   "metadata": {},
   "outputs": [],
   "source": [
    "villagers[\"Species\"].replace(species_dict, inplace = True)"
   ]
  },
  {
   "cell_type": "code",
   "execution_count": 12,
   "metadata": {},
   "outputs": [
    {
     "output_type": "execute_result",
     "data": {
      "text/plain": "      Name  Species  Gender  Personality    Hobby   Birthday Catchphrase  \\\n0  Admiral        3       1            2   Nature 1900-01-27     aye aye   \n1  Agent S       31       0            1  Fitness 1900-07-02    sidekick   \n2    Agnes       27       0            3     Play 1900-04-21     snuffle   \n3       Al       15       1            0  Fitness 1900-10-18     ayyyeee   \n4  Alfonso        0       1            0     Play 1900-06-09    it'sa me   \n\n   Favorite Song Style 1  Style 2 Color 1 Color 2               Wallpaper  \\\n0     Steep Hill    Cool     Cool   Black    Blue          dirt-clod wall   \n1  Go K.K. Rider  Active   Simple    Blue   Black           concrete wall   \n2     K.K. House  Simple  Elegant    Pink   White  gray molded-panel wall   \n3  Go K.K. Rider  Active   Active     Red   White           concrete wall   \n4    Forest Life  Simple   Simple     Red    Blue    yellow playroom wall   \n\n                 Flooring                                     Furniture List  \\\n0                  tatami  717;1849;7047;2736;787;5970;3449;3622;3802;410...   \n1  colorful tile flooring  7845;7150;3468;4080;290;3971;3449;1708;4756;25...   \n2      arabesque flooring  4129;7236;7235;7802;896;3428;4027;7325;3958;71...   \n3   green rubber flooring  1452;4078;4013;833;4116;3697;7845;3307;3946;39...   \n4    green honeycomb tile  4763;3205;3701;1557;3623;85;3208;3584;4761;121...   \n\n  Filename    Unique Entry ID  \n0    brd06  B3RyfNEqwGmcccRC3  \n1    squ05  SGMdki6dzpDZyXAw5  \n2    pig17  jzWCiDPm9MqtCfecP  \n3    gor08  LBifxETQJGEaLhBjC  \n4    crd00  REpd8KxB8p9aGBRSE  ",
      "text/html": "<div>\n<style scoped>\n    .dataframe tbody tr th:only-of-type {\n        vertical-align: middle;\n    }\n\n    .dataframe tbody tr th {\n        vertical-align: top;\n    }\n\n    .dataframe thead th {\n        text-align: right;\n    }\n</style>\n<table border=\"1\" class=\"dataframe\">\n  <thead>\n    <tr style=\"text-align: right;\">\n      <th></th>\n      <th>Name</th>\n      <th>Species</th>\n      <th>Gender</th>\n      <th>Personality</th>\n      <th>Hobby</th>\n      <th>Birthday</th>\n      <th>Catchphrase</th>\n      <th>Favorite Song</th>\n      <th>Style 1</th>\n      <th>Style 2</th>\n      <th>Color 1</th>\n      <th>Color 2</th>\n      <th>Wallpaper</th>\n      <th>Flooring</th>\n      <th>Furniture List</th>\n      <th>Filename</th>\n      <th>Unique Entry ID</th>\n    </tr>\n  </thead>\n  <tbody>\n    <tr>\n      <th>0</th>\n      <td>Admiral</td>\n      <td>3</td>\n      <td>1</td>\n      <td>2</td>\n      <td>Nature</td>\n      <td>1900-01-27</td>\n      <td>aye aye</td>\n      <td>Steep Hill</td>\n      <td>Cool</td>\n      <td>Cool</td>\n      <td>Black</td>\n      <td>Blue</td>\n      <td>dirt-clod wall</td>\n      <td>tatami</td>\n      <td>717;1849;7047;2736;787;5970;3449;3622;3802;410...</td>\n      <td>brd06</td>\n      <td>B3RyfNEqwGmcccRC3</td>\n    </tr>\n    <tr>\n      <th>1</th>\n      <td>Agent S</td>\n      <td>31</td>\n      <td>0</td>\n      <td>1</td>\n      <td>Fitness</td>\n      <td>1900-07-02</td>\n      <td>sidekick</td>\n      <td>Go K.K. Rider</td>\n      <td>Active</td>\n      <td>Simple</td>\n      <td>Blue</td>\n      <td>Black</td>\n      <td>concrete wall</td>\n      <td>colorful tile flooring</td>\n      <td>7845;7150;3468;4080;290;3971;3449;1708;4756;25...</td>\n      <td>squ05</td>\n      <td>SGMdki6dzpDZyXAw5</td>\n    </tr>\n    <tr>\n      <th>2</th>\n      <td>Agnes</td>\n      <td>27</td>\n      <td>0</td>\n      <td>3</td>\n      <td>Play</td>\n      <td>1900-04-21</td>\n      <td>snuffle</td>\n      <td>K.K. House</td>\n      <td>Simple</td>\n      <td>Elegant</td>\n      <td>Pink</td>\n      <td>White</td>\n      <td>gray molded-panel wall</td>\n      <td>arabesque flooring</td>\n      <td>4129;7236;7235;7802;896;3428;4027;7325;3958;71...</td>\n      <td>pig17</td>\n      <td>jzWCiDPm9MqtCfecP</td>\n    </tr>\n    <tr>\n      <th>3</th>\n      <td>Al</td>\n      <td>15</td>\n      <td>1</td>\n      <td>0</td>\n      <td>Fitness</td>\n      <td>1900-10-18</td>\n      <td>ayyyeee</td>\n      <td>Go K.K. Rider</td>\n      <td>Active</td>\n      <td>Active</td>\n      <td>Red</td>\n      <td>White</td>\n      <td>concrete wall</td>\n      <td>green rubber flooring</td>\n      <td>1452;4078;4013;833;4116;3697;7845;3307;3946;39...</td>\n      <td>gor08</td>\n      <td>LBifxETQJGEaLhBjC</td>\n    </tr>\n    <tr>\n      <th>4</th>\n      <td>Alfonso</td>\n      <td>0</td>\n      <td>1</td>\n      <td>0</td>\n      <td>Play</td>\n      <td>1900-06-09</td>\n      <td>it'sa me</td>\n      <td>Forest Life</td>\n      <td>Simple</td>\n      <td>Simple</td>\n      <td>Red</td>\n      <td>Blue</td>\n      <td>yellow playroom wall</td>\n      <td>green honeycomb tile</td>\n      <td>4763;3205;3701;1557;3623;85;3208;3584;4761;121...</td>\n      <td>crd00</td>\n      <td>REpd8KxB8p9aGBRSE</td>\n    </tr>\n  </tbody>\n</table>\n</div>"
     },
     "metadata": {},
     "execution_count": 12
    }
   ],
   "source": [
    "villagers.head()"
   ]
  },
  {
   "cell_type": "code",
   "execution_count": null,
   "metadata": {},
   "outputs": [],
   "source": []
  }
 ]
}