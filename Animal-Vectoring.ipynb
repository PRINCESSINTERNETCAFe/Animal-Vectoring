{
 "metadata": {
  "language_info": {
   "codemirror_mode": {
    "name": "ipython",
    "version": 3
   },
   "file_extension": ".py",
   "mimetype": "text/x-python",
   "name": "python",
   "nbconvert_exporter": "python",
   "pygments_lexer": "ipython3",
   "version": "3.7.7-final"
  },
  "orig_nbformat": 2,
  "kernelspec": {
   "name": "python37764bitnlpcourseconda060b5b4f1f404a1ea34a44b6664f71b2",
   "display_name": "Python 3.7.7 64-bit ('nlp_course': conda)"
  }
 },
 "nbformat": 4,
 "nbformat_minor": 2,
 "cells": [
  {
   "cell_type": "code",
   "execution_count": 1,
   "metadata": {},
   "outputs": [],
   "source": [
    "import pandas as pd\n",
    "import numpy as np"
   ]
  },
  {
   "cell_type": "code",
   "execution_count": 2,
   "metadata": {},
   "outputs": [],
   "source": [
    "villagers = pd.read_csv('villagers.csv')"
   ]
  },
  {
   "cell_type": "code",
   "execution_count": 3,
   "metadata": {},
   "outputs": [
    {
     "output_type": "execute_result",
     "data": {
      "text/plain": "      Name    Species  Gender Personality    Hobby Birthday Catchphrase  \\\n0  Admiral       Bird    Male      Cranky   Nature   27-Jan     aye aye   \n1  Agent S   Squirrel  Female       Peppy  Fitness    2-Jul    sidekick   \n2    Agnes        Pig  Female  Big Sister     Play   21-Apr     snuffle   \n3       Al    Gorilla    Male        Lazy  Fitness   18-Oct     ayyyeee   \n4  Alfonso  Alligator    Male        Lazy     Play    9-Jun    it'sa me   \n\n   Favorite Song Style 1  Style 2 Color 1 Color 2               Wallpaper  \\\n0     Steep Hill    Cool     Cool   Black    Blue          dirt-clod wall   \n1  Go K.K. Rider  Active   Simple    Blue   Black           concrete wall   \n2     K.K. House  Simple  Elegant    Pink   White  gray molded-panel wall   \n3  Go K.K. Rider  Active   Active     Red   White           concrete wall   \n4    Forest Life  Simple   Simple     Red    Blue    yellow playroom wall   \n\n                 Flooring                                     Furniture List  \\\n0                  tatami  717;1849;7047;2736;787;5970;3449;3622;3802;410...   \n1  colorful tile flooring  7845;7150;3468;4080;290;3971;3449;1708;4756;25...   \n2      arabesque flooring  4129;7236;7235;7802;896;3428;4027;7325;3958;71...   \n3   green rubber flooring  1452;4078;4013;833;4116;3697;7845;3307;3946;39...   \n4    green honeycomb tile  4763;3205;3701;1557;3623;85;3208;3584;4761;121...   \n\n  Filename    Unique Entry ID  \n0    brd06  B3RyfNEqwGmcccRC3  \n1    squ05  SGMdki6dzpDZyXAw5  \n2    pig17  jzWCiDPm9MqtCfecP  \n3    gor08  LBifxETQJGEaLhBjC  \n4    crd00  REpd8KxB8p9aGBRSE  ",
      "text/html": "<div>\n<style scoped>\n    .dataframe tbody tr th:only-of-type {\n        vertical-align: middle;\n    }\n\n    .dataframe tbody tr th {\n        vertical-align: top;\n    }\n\n    .dataframe thead th {\n        text-align: right;\n    }\n</style>\n<table border=\"1\" class=\"dataframe\">\n  <thead>\n    <tr style=\"text-align: right;\">\n      <th></th>\n      <th>Name</th>\n      <th>Species</th>\n      <th>Gender</th>\n      <th>Personality</th>\n      <th>Hobby</th>\n      <th>Birthday</th>\n      <th>Catchphrase</th>\n      <th>Favorite Song</th>\n      <th>Style 1</th>\n      <th>Style 2</th>\n      <th>Color 1</th>\n      <th>Color 2</th>\n      <th>Wallpaper</th>\n      <th>Flooring</th>\n      <th>Furniture List</th>\n      <th>Filename</th>\n      <th>Unique Entry ID</th>\n    </tr>\n  </thead>\n  <tbody>\n    <tr>\n      <th>0</th>\n      <td>Admiral</td>\n      <td>Bird</td>\n      <td>Male</td>\n      <td>Cranky</td>\n      <td>Nature</td>\n      <td>27-Jan</td>\n      <td>aye aye</td>\n      <td>Steep Hill</td>\n      <td>Cool</td>\n      <td>Cool</td>\n      <td>Black</td>\n      <td>Blue</td>\n      <td>dirt-clod wall</td>\n      <td>tatami</td>\n      <td>717;1849;7047;2736;787;5970;3449;3622;3802;410...</td>\n      <td>brd06</td>\n      <td>B3RyfNEqwGmcccRC3</td>\n    </tr>\n    <tr>\n      <th>1</th>\n      <td>Agent S</td>\n      <td>Squirrel</td>\n      <td>Female</td>\n      <td>Peppy</td>\n      <td>Fitness</td>\n      <td>2-Jul</td>\n      <td>sidekick</td>\n      <td>Go K.K. Rider</td>\n      <td>Active</td>\n      <td>Simple</td>\n      <td>Blue</td>\n      <td>Black</td>\n      <td>concrete wall</td>\n      <td>colorful tile flooring</td>\n      <td>7845;7150;3468;4080;290;3971;3449;1708;4756;25...</td>\n      <td>squ05</td>\n      <td>SGMdki6dzpDZyXAw5</td>\n    </tr>\n    <tr>\n      <th>2</th>\n      <td>Agnes</td>\n      <td>Pig</td>\n      <td>Female</td>\n      <td>Big Sister</td>\n      <td>Play</td>\n      <td>21-Apr</td>\n      <td>snuffle</td>\n      <td>K.K. House</td>\n      <td>Simple</td>\n      <td>Elegant</td>\n      <td>Pink</td>\n      <td>White</td>\n      <td>gray molded-panel wall</td>\n      <td>arabesque flooring</td>\n      <td>4129;7236;7235;7802;896;3428;4027;7325;3958;71...</td>\n      <td>pig17</td>\n      <td>jzWCiDPm9MqtCfecP</td>\n    </tr>\n    <tr>\n      <th>3</th>\n      <td>Al</td>\n      <td>Gorilla</td>\n      <td>Male</td>\n      <td>Lazy</td>\n      <td>Fitness</td>\n      <td>18-Oct</td>\n      <td>ayyyeee</td>\n      <td>Go K.K. Rider</td>\n      <td>Active</td>\n      <td>Active</td>\n      <td>Red</td>\n      <td>White</td>\n      <td>concrete wall</td>\n      <td>green rubber flooring</td>\n      <td>1452;4078;4013;833;4116;3697;7845;3307;3946;39...</td>\n      <td>gor08</td>\n      <td>LBifxETQJGEaLhBjC</td>\n    </tr>\n    <tr>\n      <th>4</th>\n      <td>Alfonso</td>\n      <td>Alligator</td>\n      <td>Male</td>\n      <td>Lazy</td>\n      <td>Play</td>\n      <td>9-Jun</td>\n      <td>it'sa me</td>\n      <td>Forest Life</td>\n      <td>Simple</td>\n      <td>Simple</td>\n      <td>Red</td>\n      <td>Blue</td>\n      <td>yellow playroom wall</td>\n      <td>green honeycomb tile</td>\n      <td>4763;3205;3701;1557;3623;85;3208;3584;4761;121...</td>\n      <td>crd00</td>\n      <td>REpd8KxB8p9aGBRSE</td>\n    </tr>\n  </tbody>\n</table>\n</div>"
     },
     "metadata": {},
     "execution_count": 3
    }
   ],
   "source": [
    "villagers.head()"
   ]
  },
  {
   "cell_type": "markdown",
   "metadata": {},
   "source": [
    "# Tidying up the data\n",
    "## Birthday to date"
   ]
  },
  {
   "cell_type": "code",
   "execution_count": 4,
   "metadata": {},
   "outputs": [],
   "source": [
    "villagers['Birthday'] = pd.to_datetime(villagers['Birthday'], format = \"%d-%b\")\n",
    "villagers['Birthday'] = villagers['Birthday'].apply(lambda dt: dt.replace(year = 2020))"
   ]
  },
  {
   "cell_type": "markdown",
   "metadata": {},
   "source": [
    "## Gender to number"
   ]
  },
  {
   "cell_type": "code",
   "execution_count": 5,
   "metadata": {},
   "outputs": [],
   "source": [
    "villagers[\"Gender\"] = villagers[\"Gender\"].replace([\"Female\", \"Male\"], [0, 1])"
   ]
  },
  {
   "cell_type": "markdown",
   "metadata": {},
   "source": [
    "## Changing the Personality to vector values\n",
    "As the total 8 personality types in the game for villagers are actually split into 4 for each gender, I've decided to refactor the female and male counterparts into the same value. I thought it made more sense to do it this way and \"degender\" the personality, as we already have a Gender value that we can apply to get the exact Personality."
   ]
  },
  {
   "cell_type": "markdown",
   "metadata": {},
   "source": [
    "I decided it'd be an interesting idea to arrange the personality types in a 'spiciness' scale, based on how often these villagers can say something \"out of line\". Therefore, we have the Normal and Lazy villagers as 'mild' with a value of 0 and Snooty and Cranky villagers with a 'very hot' rating of 3.\n",
    "\n",
    "\n",
    "| Spiciness/ *Gender*\t| Mild - 0 \t| Medium - 1   \t| Hot - 2    \t| Very Hot - 3 \t|\n",
    "|----------------------\t|----------\t|--------------\t|--------------\t|--------------\t|\n",
    "| *Female* - 0        \t| Normal   \t| Peppy      \t| Big Sister \t| Snooty       \t|\n",
    "| *Male* - 1          \t| Lazy     \t| Jock       \t| Smug       \t| Cranky       \t|"
   ]
  },
  {
   "cell_type": "code",
   "execution_count": 6,
   "metadata": {},
   "outputs": [],
   "source": [
    "villagers[\"Personality\"] = villagers[\"Personality\"].replace([\"Normal\", \"Lazy\"], 0)\n",
    "villagers[\"Personality\"] = villagers[\"Personality\"].replace([\"Peppy\", \"Jock\"], 1)\n",
    "villagers[\"Personality\"] = villagers[\"Personality\"].replace([\"Big Sister\", \"Smug\"], 2)\n",
    "villagers[\"Personality\"] = villagers[\"Personality\"].replace([\"Snooty\", \"Cranky\"], 3)"
   ]
  },
  {
   "cell_type": "code",
   "execution_count": 7,
   "metadata": {},
   "outputs": [
    {
     "output_type": "execute_result",
     "data": {
      "text/plain": "      Name    Species  Gender  Personality    Hobby   Birthday Catchphrase  \\\n0  Admiral       Bird       1            3   Nature 2020-01-27     aye aye   \n1  Agent S   Squirrel       0            1  Fitness 2020-07-02    sidekick   \n2    Agnes        Pig       0            2     Play 2020-04-21     snuffle   \n3       Al    Gorilla       1            0  Fitness 2020-10-18     ayyyeee   \n4  Alfonso  Alligator       1            0     Play 2020-06-09    it'sa me   \n\n   Favorite Song Style 1  Style 2 Color 1 Color 2               Wallpaper  \\\n0     Steep Hill    Cool     Cool   Black    Blue          dirt-clod wall   \n1  Go K.K. Rider  Active   Simple    Blue   Black           concrete wall   \n2     K.K. House  Simple  Elegant    Pink   White  gray molded-panel wall   \n3  Go K.K. Rider  Active   Active     Red   White           concrete wall   \n4    Forest Life  Simple   Simple     Red    Blue    yellow playroom wall   \n\n                 Flooring                                     Furniture List  \\\n0                  tatami  717;1849;7047;2736;787;5970;3449;3622;3802;410...   \n1  colorful tile flooring  7845;7150;3468;4080;290;3971;3449;1708;4756;25...   \n2      arabesque flooring  4129;7236;7235;7802;896;3428;4027;7325;3958;71...   \n3   green rubber flooring  1452;4078;4013;833;4116;3697;7845;3307;3946;39...   \n4    green honeycomb tile  4763;3205;3701;1557;3623;85;3208;3584;4761;121...   \n\n  Filename    Unique Entry ID  \n0    brd06  B3RyfNEqwGmcccRC3  \n1    squ05  SGMdki6dzpDZyXAw5  \n2    pig17  jzWCiDPm9MqtCfecP  \n3    gor08  LBifxETQJGEaLhBjC  \n4    crd00  REpd8KxB8p9aGBRSE  ",
      "text/html": "<div>\n<style scoped>\n    .dataframe tbody tr th:only-of-type {\n        vertical-align: middle;\n    }\n\n    .dataframe tbody tr th {\n        vertical-align: top;\n    }\n\n    .dataframe thead th {\n        text-align: right;\n    }\n</style>\n<table border=\"1\" class=\"dataframe\">\n  <thead>\n    <tr style=\"text-align: right;\">\n      <th></th>\n      <th>Name</th>\n      <th>Species</th>\n      <th>Gender</th>\n      <th>Personality</th>\n      <th>Hobby</th>\n      <th>Birthday</th>\n      <th>Catchphrase</th>\n      <th>Favorite Song</th>\n      <th>Style 1</th>\n      <th>Style 2</th>\n      <th>Color 1</th>\n      <th>Color 2</th>\n      <th>Wallpaper</th>\n      <th>Flooring</th>\n      <th>Furniture List</th>\n      <th>Filename</th>\n      <th>Unique Entry ID</th>\n    </tr>\n  </thead>\n  <tbody>\n    <tr>\n      <th>0</th>\n      <td>Admiral</td>\n      <td>Bird</td>\n      <td>1</td>\n      <td>3</td>\n      <td>Nature</td>\n      <td>2020-01-27</td>\n      <td>aye aye</td>\n      <td>Steep Hill</td>\n      <td>Cool</td>\n      <td>Cool</td>\n      <td>Black</td>\n      <td>Blue</td>\n      <td>dirt-clod wall</td>\n      <td>tatami</td>\n      <td>717;1849;7047;2736;787;5970;3449;3622;3802;410...</td>\n      <td>brd06</td>\n      <td>B3RyfNEqwGmcccRC3</td>\n    </tr>\n    <tr>\n      <th>1</th>\n      <td>Agent S</td>\n      <td>Squirrel</td>\n      <td>0</td>\n      <td>1</td>\n      <td>Fitness</td>\n      <td>2020-07-02</td>\n      <td>sidekick</td>\n      <td>Go K.K. Rider</td>\n      <td>Active</td>\n      <td>Simple</td>\n      <td>Blue</td>\n      <td>Black</td>\n      <td>concrete wall</td>\n      <td>colorful tile flooring</td>\n      <td>7845;7150;3468;4080;290;3971;3449;1708;4756;25...</td>\n      <td>squ05</td>\n      <td>SGMdki6dzpDZyXAw5</td>\n    </tr>\n    <tr>\n      <th>2</th>\n      <td>Agnes</td>\n      <td>Pig</td>\n      <td>0</td>\n      <td>2</td>\n      <td>Play</td>\n      <td>2020-04-21</td>\n      <td>snuffle</td>\n      <td>K.K. House</td>\n      <td>Simple</td>\n      <td>Elegant</td>\n      <td>Pink</td>\n      <td>White</td>\n      <td>gray molded-panel wall</td>\n      <td>arabesque flooring</td>\n      <td>4129;7236;7235;7802;896;3428;4027;7325;3958;71...</td>\n      <td>pig17</td>\n      <td>jzWCiDPm9MqtCfecP</td>\n    </tr>\n    <tr>\n      <th>3</th>\n      <td>Al</td>\n      <td>Gorilla</td>\n      <td>1</td>\n      <td>0</td>\n      <td>Fitness</td>\n      <td>2020-10-18</td>\n      <td>ayyyeee</td>\n      <td>Go K.K. Rider</td>\n      <td>Active</td>\n      <td>Active</td>\n      <td>Red</td>\n      <td>White</td>\n      <td>concrete wall</td>\n      <td>green rubber flooring</td>\n      <td>1452;4078;4013;833;4116;3697;7845;3307;3946;39...</td>\n      <td>gor08</td>\n      <td>LBifxETQJGEaLhBjC</td>\n    </tr>\n    <tr>\n      <th>4</th>\n      <td>Alfonso</td>\n      <td>Alligator</td>\n      <td>1</td>\n      <td>0</td>\n      <td>Play</td>\n      <td>2020-06-09</td>\n      <td>it'sa me</td>\n      <td>Forest Life</td>\n      <td>Simple</td>\n      <td>Simple</td>\n      <td>Red</td>\n      <td>Blue</td>\n      <td>yellow playroom wall</td>\n      <td>green honeycomb tile</td>\n      <td>4763;3205;3701;1557;3623;85;3208;3584;4761;121...</td>\n      <td>crd00</td>\n      <td>REpd8KxB8p9aGBRSE</td>\n    </tr>\n  </tbody>\n</table>\n</div>"
     },
     "metadata": {},
     "execution_count": 7
    }
   ],
   "source": [
    "villagers.head()"
   ]
  },
  {
   "cell_type": "markdown",
   "metadata": {},
   "source": [
    "## Changing the Species to numerical values\n",
    "By default in the games, the 'Cow' and 'Bull' Species are gender exclusive mutually. So the first thing we need to do before anything else is to unify these two into the same Species which I have decided to call 'Cattle'."
   ]
  },
  {
   "cell_type": "code",
   "execution_count": 8,
   "metadata": {},
   "outputs": [],
   "source": [
    "villagers[\"Species\"] = villagers[\"Species\"].replace([\"Cow\", \"Bull\"], \"Cattle\")"
   ]
  },
  {
   "cell_type": "markdown",
   "metadata": {},
   "source": [
    "Once that's done, we need to have a look at how many species of villagers we have in the Animal Crossing universe."
   ]
  },
  {
   "cell_type": "code",
   "execution_count": 9,
   "metadata": {
    "tags": []
   },
   "outputs": [
    {
     "output_type": "stream",
     "name": "stdout",
     "text": "['Alligator', 'Anteater', 'Bear', 'Bird', 'Cat', 'Cattle', 'Chicken', 'Cub', 'Deer', 'Dog', 'Duck', 'Eagle', 'Elephant', 'Frog', 'Goat', 'Gorilla', 'Hamster', 'Hippo', 'Horse', 'Kangaroo', 'Koala', 'Lion', 'Monkey', 'Mouse', 'Octopus', 'Ostrich', 'Penguin', 'Pig', 'Rabbit', 'Rhino', 'Sheep', 'Squirrel', 'Tiger', 'Wolf']\n"
    },
    {
     "output_type": "execute_result",
     "data": {
      "text/plain": "34"
     },
     "metadata": {},
     "execution_count": 9
    }
   ],
   "source": [
    "species = sorted(villagers.Species.unique())\n",
    "print(species)\n",
    "len(species)"
   ]
  },
  {
   "cell_type": "markdown",
   "metadata": {},
   "source": [
    "It turns that based on our data, that's a total of 34!\n",
    "Now in order to replace the species with numerical values we just have to create a dictionary with the species as the key and assign a numerical value to each."
   ]
  },
  {
   "cell_type": "code",
   "execution_count": 10,
   "metadata": {
    "tags": []
   },
   "outputs": [
    {
     "output_type": "stream",
     "name": "stdout",
     "text": "{'Alligator': 0, 'Anteater': 1, 'Bear': 2, 'Bird': 3, 'Cat': 4, 'Cattle': 5, 'Chicken': 6, 'Cub': 7, 'Deer': 8, 'Dog': 9, 'Duck': 10, 'Eagle': 11, 'Elephant': 12, 'Frog': 13, 'Goat': 14, 'Gorilla': 15, 'Hamster': 16, 'Hippo': 17, 'Horse': 18, 'Kangaroo': 19, 'Koala': 20, 'Lion': 21, 'Monkey': 22, 'Mouse': 23, 'Octopus': 24, 'Ostrich': 25, 'Penguin': 26, 'Pig': 27, 'Rabbit': 28, 'Rhino': 29, 'Sheep': 30, 'Squirrel': 31, 'Tiger': 32, 'Wolf': 33}\n"
    }
   ],
   "source": [
    "species_dict = dict(zip(species, range(len(species))))\n",
    "print(species_dict)"
   ]
  },
  {
   "cell_type": "markdown",
   "metadata": {},
   "source": [
    "However, after I thought this through I realised this made no sense. If I was ranking the Personality on a 'spiciness' scale, why was I just assigning values to the Species arbitrarily (alphabetically)?\n",
    "\n",
    "I thought it'd make sense if we organised them in a 'phylogenetic tree' kind of way, similar to how New Horizons shows the different villager species in the last room at the Fossil area in the museum. I did a bit of searching online and found this wonderful [Animal Crossing Cladogram] (https://www.reddit.com/r/AnimalCrossing/comments/ffwkvb/i_made_a_cladogram_for_all_the_species_of_the/) by [SaxoLaxo](https://www.reddit.com/user/SaxoLaxo/) on Reddit. \n",
    "\n",
    "\n",
    "\n",
    "![cladogram](./cladogram.jpg)\n",
    "\n",
    "\n",
    "However, for the sake of brevity I'll be simplifying this classification a little bit:\n",
    "\n",
    "- We'll be using the in-game Species, instead of its irl ones: Queenie (emu), Flora (flamingo), Cranston (crane) and Julia (peacock) will stay as 'Ostrich'.\n",
    "\n",
    "- Distance between species has been simplified: If going down a branch there's no species in the left sub-branch, the current sub-brach will be ignored and not accounted for.\n",
    "\n",
    "\n",
    "\n"
   ]
  },
  {
   "cell_type": "code",
   "execution_count": 11,
   "metadata": {},
   "outputs": [],
   "source": [
    "# species_dict.update({'Octopus': 0, 'Frog': 1, 'Alligator': 2, 'Ostrich': 3, 'Chicken': 4, 'Duck': 5, 'Penguin': 6, 'Eagle': 7, 'Bird': 8, 'Kangaroo': 9, 'Koala': 10, 'Anteater': 11, 'Elephant': 12, 'Gorilla': 13, 'Monkey': 14, 'Rabbit': 15, 'Squirrel': 16, 'Mouse': 17, 'Hamster': 18, 'Pig': 19, 'Hippo': 20, 'Deer': 21, 'Cattle': 22, 'Goat': 23, 'Sheep': 24, 'Horse': 25, 'Rhino': 26, 'Tiger': 27, 'Lion': 28, 'Cat': 29, 'Dog': 30, 'Wolf': 31, 'Cub': 32, 'Bear': 33 })"
   ]
  },
  {
   "cell_type": "code",
   "execution_count": 12,
   "metadata": {},
   "outputs": [],
   "source": [
    "species_dict.update({'Octopus': .1, 'Frog': .21, 'Alligator': .2211, 'Ostrich':.22121, 'Chicken': .2212211, 'Duck': .2212212, 'Penguin': .2212221, 'Eagle': .22122221, 'Bird': .22122222, 'Kangaroo': .22211, 'Koala': .22212, 'Anteater': .222211, 'Elephant': .222212, 'Gorilla': .22222111, 'Monkey': .22222112, 'Rabbit': .22222121, 'Squirrel': .222221221, 'Mouse': .2222212221, 'Hamster': .2222212222, 'Pig': .222222111, 'Hippo': .2222221121, 'Deer': .22222211221, 'Cattle': .222222112221, 'Goat': .2222221122221, 'Sheep': .2222221122222, 'Horse': .222222121, 'Rhino': .222222122, 'Tiger': .2222222111, 'Lion': .2222222112, 'Cat':.222222212, 'Wolf': .2222222221, 'Dog': .2222222222, 'Cub': .2222222211, 'Bear': .2222222212})"
   ]
  },
  {
   "cell_type": "code",
   "execution_count": 13,
   "metadata": {},
   "outputs": [],
   "source": [
    "# species_dict.update({'Octopus': .01, 'Frog': .10, 'Alligator': .1100, 'Ostrich':.11010, 'Chicken': .1101100, 'Duck': .1101101, 'Penguin': .1101110, 'Eagle': .11011110, 'Bird': .11011111, 'Kangaroo': .11100, 'Koala': .11101, 'Anteater': .111100, 'Elephant': .111101, 'Gorilla': .11111000, 'Monkey': .11111001, 'Rabbit': .11111010, 'Squirrel': .111110110, 'Mouse': .1111101110, 'Hamster': .1111101111, 'Pig': .111111000, 'Hippo': .1111110010, 'Deer': .11111100110, 'Cattle': .111111001110, 'Goat': .1111110011110, 'Sheep': .1111110011111, 'Horse': .111111010, 'Rhino': .111111011, 'Tiger': .1111111000, 'Lion': .1111111001, 'Cat':.111111101, 'Wolf': .1111111110, 'Dog': .1111111111, 'Cub': .1111111100, 'Bear': .1111111101})"
   ]
  },
  {
   "cell_type": "code",
   "execution_count": 14,
   "metadata": {},
   "outputs": [],
   "source": [
    "villagers[\"Species\"].replace(species_dict, inplace = True)"
   ]
  },
  {
   "cell_type": "code",
   "execution_count": 15,
   "metadata": {},
   "outputs": [
    {
     "output_type": "execute_result",
     "data": {
      "text/plain": "      Name   Species  Gender  Personality    Hobby   Birthday Catchphrase  \\\n0  Admiral  0.221222       1            3   Nature 2020-01-27     aye aye   \n1  Agent S  0.222221       0            1  Fitness 2020-07-02    sidekick   \n2    Agnes  0.222222       0            2     Play 2020-04-21     snuffle   \n3       Al  0.222221       1            0  Fitness 2020-10-18     ayyyeee   \n4  Alfonso  0.221100       1            0     Play 2020-06-09    it'sa me   \n\n   Favorite Song Style 1  Style 2 Color 1 Color 2               Wallpaper  \\\n0     Steep Hill    Cool     Cool   Black    Blue          dirt-clod wall   \n1  Go K.K. Rider  Active   Simple    Blue   Black           concrete wall   \n2     K.K. House  Simple  Elegant    Pink   White  gray molded-panel wall   \n3  Go K.K. Rider  Active   Active     Red   White           concrete wall   \n4    Forest Life  Simple   Simple     Red    Blue    yellow playroom wall   \n\n                 Flooring                                     Furniture List  \\\n0                  tatami  717;1849;7047;2736;787;5970;3449;3622;3802;410...   \n1  colorful tile flooring  7845;7150;3468;4080;290;3971;3449;1708;4756;25...   \n2      arabesque flooring  4129;7236;7235;7802;896;3428;4027;7325;3958;71...   \n3   green rubber flooring  1452;4078;4013;833;4116;3697;7845;3307;3946;39...   \n4    green honeycomb tile  4763;3205;3701;1557;3623;85;3208;3584;4761;121...   \n\n  Filename    Unique Entry ID  \n0    brd06  B3RyfNEqwGmcccRC3  \n1    squ05  SGMdki6dzpDZyXAw5  \n2    pig17  jzWCiDPm9MqtCfecP  \n3    gor08  LBifxETQJGEaLhBjC  \n4    crd00  REpd8KxB8p9aGBRSE  ",
      "text/html": "<div>\n<style scoped>\n    .dataframe tbody tr th:only-of-type {\n        vertical-align: middle;\n    }\n\n    .dataframe tbody tr th {\n        vertical-align: top;\n    }\n\n    .dataframe thead th {\n        text-align: right;\n    }\n</style>\n<table border=\"1\" class=\"dataframe\">\n  <thead>\n    <tr style=\"text-align: right;\">\n      <th></th>\n      <th>Name</th>\n      <th>Species</th>\n      <th>Gender</th>\n      <th>Personality</th>\n      <th>Hobby</th>\n      <th>Birthday</th>\n      <th>Catchphrase</th>\n      <th>Favorite Song</th>\n      <th>Style 1</th>\n      <th>Style 2</th>\n      <th>Color 1</th>\n      <th>Color 2</th>\n      <th>Wallpaper</th>\n      <th>Flooring</th>\n      <th>Furniture List</th>\n      <th>Filename</th>\n      <th>Unique Entry ID</th>\n    </tr>\n  </thead>\n  <tbody>\n    <tr>\n      <th>0</th>\n      <td>Admiral</td>\n      <td>0.221222</td>\n      <td>1</td>\n      <td>3</td>\n      <td>Nature</td>\n      <td>2020-01-27</td>\n      <td>aye aye</td>\n      <td>Steep Hill</td>\n      <td>Cool</td>\n      <td>Cool</td>\n      <td>Black</td>\n      <td>Blue</td>\n      <td>dirt-clod wall</td>\n      <td>tatami</td>\n      <td>717;1849;7047;2736;787;5970;3449;3622;3802;410...</td>\n      <td>brd06</td>\n      <td>B3RyfNEqwGmcccRC3</td>\n    </tr>\n    <tr>\n      <th>1</th>\n      <td>Agent S</td>\n      <td>0.222221</td>\n      <td>0</td>\n      <td>1</td>\n      <td>Fitness</td>\n      <td>2020-07-02</td>\n      <td>sidekick</td>\n      <td>Go K.K. Rider</td>\n      <td>Active</td>\n      <td>Simple</td>\n      <td>Blue</td>\n      <td>Black</td>\n      <td>concrete wall</td>\n      <td>colorful tile flooring</td>\n      <td>7845;7150;3468;4080;290;3971;3449;1708;4756;25...</td>\n      <td>squ05</td>\n      <td>SGMdki6dzpDZyXAw5</td>\n    </tr>\n    <tr>\n      <th>2</th>\n      <td>Agnes</td>\n      <td>0.222222</td>\n      <td>0</td>\n      <td>2</td>\n      <td>Play</td>\n      <td>2020-04-21</td>\n      <td>snuffle</td>\n      <td>K.K. House</td>\n      <td>Simple</td>\n      <td>Elegant</td>\n      <td>Pink</td>\n      <td>White</td>\n      <td>gray molded-panel wall</td>\n      <td>arabesque flooring</td>\n      <td>4129;7236;7235;7802;896;3428;4027;7325;3958;71...</td>\n      <td>pig17</td>\n      <td>jzWCiDPm9MqtCfecP</td>\n    </tr>\n    <tr>\n      <th>3</th>\n      <td>Al</td>\n      <td>0.222221</td>\n      <td>1</td>\n      <td>0</td>\n      <td>Fitness</td>\n      <td>2020-10-18</td>\n      <td>ayyyeee</td>\n      <td>Go K.K. Rider</td>\n      <td>Active</td>\n      <td>Active</td>\n      <td>Red</td>\n      <td>White</td>\n      <td>concrete wall</td>\n      <td>green rubber flooring</td>\n      <td>1452;4078;4013;833;4116;3697;7845;3307;3946;39...</td>\n      <td>gor08</td>\n      <td>LBifxETQJGEaLhBjC</td>\n    </tr>\n    <tr>\n      <th>4</th>\n      <td>Alfonso</td>\n      <td>0.221100</td>\n      <td>1</td>\n      <td>0</td>\n      <td>Play</td>\n      <td>2020-06-09</td>\n      <td>it'sa me</td>\n      <td>Forest Life</td>\n      <td>Simple</td>\n      <td>Simple</td>\n      <td>Red</td>\n      <td>Blue</td>\n      <td>yellow playroom wall</td>\n      <td>green honeycomb tile</td>\n      <td>4763;3205;3701;1557;3623;85;3208;3584;4761;121...</td>\n      <td>crd00</td>\n      <td>REpd8KxB8p9aGBRSE</td>\n    </tr>\n  </tbody>\n</table>\n</div>"
     },
     "metadata": {},
     "execution_count": 15
    }
   ],
   "source": [
    "villagers.head()"
   ]
  },
  {
   "cell_type": "code",
   "execution_count": 16,
   "metadata": {},
   "outputs": [],
   "source": [
    "spatial_species = {'Octopus': {\"x\": 3, \"z\": 3, \"y\": 0}, 'Frog': {\"x\": 0, \"z\": 2, \"y\": 2}, 'Alligator': {\"x\": -1, \"z\": 1, \"y\": 3}, 'Ostrich': {\"x\": -2, \"z\": 0, \"y\": 5}, 'Chicken': {\"x\": -2, \"z\": -1, \"y\": 6}, 'Duck': {\"x\": -1, \"z\": 1, \"y\": 6}, 'Kangaroo': {\"x\": -4, \"z\": 5, \"y\": 6}, 'Koala': {\"x\": -5, \"z\": 4, \"y\": 6}, 'Anteater': {\"x\": -4, \"z\": 3, \"y\": 6}, 'Elephant': {\"x\": -2, \"z\": 4, \"y\": 6}, 'Penguin': {\"x\": 1, \"z\": 1, \"y\": 7}, 'Eagle': {\"x\": 2, \"z\": 1, \"y\": 7}, 'Bird': {\"x\": 0, \"z\": -2, \"y\": 7},  'Gorilla': {\"x\": -2, \"z\": 4, \"y\": 7}, 'Monkey': {\"x\": -3, \"z\": 3, \"y\": 7}, 'Rabbit': {\"x\": -4, \"z\": 5, \"y\": 7}, 'Squirrel': {\"x\": -5, \"z\": 4, \"y\": 7}, 'Mouse': {\"x\": -5, \"z\": 5, \"y\": 7}, 'Hippo': {\"x\": 0, \"z\": 3, \"y\": 8}, 'Deer': {\"x\": -2, \"z\": 0, \"y\": 8}, 'Rhino': {\"x\": -2, \"z\": 3, \"y\": 8}, 'Tiger': {\"x\": -5, \"z\": 3, \"y\": 8}, 'Lion': {\"x\": -5, \"z\": 2, \"y\": 8}, 'Bear': {\"x\": -5, \"z\": -1, \"y\": 8}, 'Wolf': {\"x\": -5, \"z\": -5, \"y\": 8}, 'Cattle': {\"x\": -3, \"z\": 0, \"y\": 9}, 'Goat': {\"x\": -3, \"z\": 1, \"y\": 9}, 'Sheep': {\"x\": -2, \"z\": 1, \"y\": 9}, 'Horse': {\"x\": -2, \"z\": -2, \"y\": 9}, 'Cat': {\"x\": -5, \"z\": 2, \"y\": 9}, 'Hamster': {\"x\": -5, \"z\": 5, \"y\": 9}, 'Pig': {\"x\": -1, \"z\": 2, \"y\": 9}, 'Dog': {\"x\": -5, \"z\": -5, \"y\": 9}, 'Cub': {\"x\": -5, \"z\": -1, \"y\": 9}}"
   ]
  },
  {
   "cell_type": "code",
   "execution_count": 17,
   "metadata": {
    "tags": []
   },
   "outputs": [
    {
     "output_type": "stream",
     "name": "stdout",
     "text": "{'Octopus': array([3, 3, 0]), 'Frog': array([0, 2, 2]), 'Alligator': array([-1,  1,  3]), 'Ostrich': array([-2,  0,  5]), 'Chicken': array([-2, -1,  6]), 'Duck': array([-1,  1,  6]), 'Kangaroo': array([-4,  5,  6]), 'Koala': array([-5,  4,  6]), 'Anteater': array([-4,  3,  6]), 'Elephant': array([-2,  4,  6]), 'Penguin': array([1, 1, 7]), 'Eagle': array([2, 1, 7]), 'Bird': array([ 0, -2,  7]), 'Gorilla': array([-2,  4,  7]), 'Monkey': array([-3,  3,  7]), 'Rabbit': array([-4,  5,  7]), 'Squirrel': array([-5,  4,  7]), 'Mouse': array([-5,  5,  7]), 'Hippo': array([0, 3, 8]), 'Deer': array([-2,  0,  8]), 'Rhino': array([-2,  3,  8]), 'Tiger': array([-5,  3,  8]), 'Lion': array([-5,  2,  8]), 'Bear': array([-5, -1,  8]), 'Wolf': array([-5, -5,  8]), 'Cattle': array([-3,  0,  9]), 'Goat': array([-3,  1,  9]), 'Sheep': array([-2,  1,  9]), 'Horse': array([-2, -2,  9]), 'Cat': array([-5,  2,  9]), 'Hamster': array([-5,  5,  9]), 'Pig': array([-1,  2,  9]), 'Dog': array([-5, -5,  9]), 'Cub': array([-5, -1,  9])}\n<class 'dict'>\n"
    }
   ],
   "source": [
    "species_array_dict = {}\n",
    "for species, location in spatial_species.items():\n",
    "    new_values = np.array(list(location.values()))\n",
    "    species_array_dict.update({species: new_values})\n",
    "print(species_array_dict)\n",
    "print(type(species_array_dict))"
   ]
  },
  {
   "cell_type": "code",
   "execution_count": 18,
   "metadata": {
    "tags": []
   },
   "outputs": [
    {
     "output_type": "stream",
     "name": "stdout",
     "text": "<class 'pandas.core.frame.DataFrame'>\n"
    },
    {
     "output_type": "execute_result",
     "data": {
      "text/plain": "           x  z  y\nAlligator -1  1  3\nAnteater  -4  3  6\nBear      -5 -1  8\nBird       0 -2  7\nCat       -5  2  9",
      "text/html": "<div>\n<style scoped>\n    .dataframe tbody tr th:only-of-type {\n        vertical-align: middle;\n    }\n\n    .dataframe tbody tr th {\n        vertical-align: top;\n    }\n\n    .dataframe thead th {\n        text-align: right;\n    }\n</style>\n<table border=\"1\" class=\"dataframe\">\n  <thead>\n    <tr style=\"text-align: right;\">\n      <th></th>\n      <th>x</th>\n      <th>z</th>\n      <th>y</th>\n    </tr>\n  </thead>\n  <tbody>\n    <tr>\n      <th>Alligator</th>\n      <td>-1</td>\n      <td>1</td>\n      <td>3</td>\n    </tr>\n    <tr>\n      <th>Anteater</th>\n      <td>-4</td>\n      <td>3</td>\n      <td>6</td>\n    </tr>\n    <tr>\n      <th>Bear</th>\n      <td>-5</td>\n      <td>-1</td>\n      <td>8</td>\n    </tr>\n    <tr>\n      <th>Bird</th>\n      <td>0</td>\n      <td>-2</td>\n      <td>7</td>\n    </tr>\n    <tr>\n      <th>Cat</th>\n      <td>-5</td>\n      <td>2</td>\n      <td>9</td>\n    </tr>\n  </tbody>\n</table>\n</div>"
     },
     "metadata": {},
     "execution_count": 18
    }
   ],
   "source": [
    "species_df = pd.DataFrame.from_dict(spatial_species, orient = \"index\")\n",
    "species_df.head()\n",
    "print(type(species_df))\n",
    "\n",
    "species_df.head()"
   ]
  },
  {
   "cell_type": "code",
   "execution_count": 19,
   "metadata": {
    "tags": []
   },
   "outputs": [
    {
     "output_type": "stream",
     "name": "stdout",
     "text": "Octopus        [3, 3, 0]\nFrog           [0, 2, 2]\nAlligator     [-1, 1, 3]\nOstrich       [-2, 0, 5]\nChicken      [-2, -1, 6]\nDuck          [-1, 1, 6]\nKangaroo      [-4, 5, 6]\nKoala         [-5, 4, 6]\nAnteater      [-4, 3, 6]\nElephant      [-2, 4, 6]\nPenguin        [1, 1, 7]\nEagle          [2, 1, 7]\nBird          [0, -2, 7]\nGorilla       [-2, 4, 7]\nMonkey        [-3, 3, 7]\nRabbit        [-4, 5, 7]\nSquirrel      [-5, 4, 7]\nMouse         [-5, 5, 7]\nHippo          [0, 3, 8]\nDeer          [-2, 0, 8]\nRhino         [-2, 3, 8]\nTiger         [-5, 3, 8]\nLion          [-5, 2, 8]\nBear         [-5, -1, 8]\nWolf         [-5, -5, 8]\nCattle        [-3, 0, 9]\nGoat          [-3, 1, 9]\nSheep         [-2, 1, 9]\nHorse        [-2, -2, 9]\nCat           [-5, 2, 9]\nHamster       [-5, 5, 9]\nPig           [-1, 2, 9]\nDog          [-5, -5, 9]\nCub          [-5, -1, 9]\ndtype: object\n"
    }
   ],
   "source": [
    "# As a series\n",
    "species_series = pd.Series(species_array_dict)\n",
    "print(species_series)"
   ]
  },
  {
   "cell_type": "code",
   "execution_count": 20,
   "metadata": {
    "tags": []
   },
   "outputs": [
    {
     "output_type": "stream",
     "name": "stdout",
     "text": "['Education', 'Fashion', 'Fitness', 'Music', 'Nature', 'Play']\n"
    }
   ],
   "source": [
    "hobbies = sorted(villagers.Hobby.unique())\n",
    "print(hobbies)"
   ]
  },
  {
   "cell_type": "code",
   "execution_count": null,
   "metadata": {},
   "outputs": [],
   "source": []
  }
 ]
}